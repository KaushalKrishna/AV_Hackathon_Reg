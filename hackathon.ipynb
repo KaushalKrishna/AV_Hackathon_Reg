{
 "cells": [
  {
   "cell_type": "markdown",
   "metadata": {},
   "source": [
    "### Importing Libraries"
   ]
  },
  {
   "cell_type": "code",
   "execution_count": 1,
   "metadata": {},
   "outputs": [],
   "source": [
    "import numpy as np\n",
    "import pandas as pd\n",
    "import matplotlib.pyplot as plt\n",
    "import seaborn as sns\n",
    "\n",
    "from sklearn.model_selection import train_test_split\n",
    "from sklearn.preprocessing import MinMaxScaler, StandardScaler\n",
    "from sklearn.metrics import mean_squared_log_error\n",
    "\n",
    "import warnings\n",
    "warnings.filterwarnings('ignore')"
   ]
  },
  {
   "cell_type": "markdown",
   "metadata": {},
   "source": [
    "### Checking the data"
   ]
  },
  {
   "cell_type": "code",
   "execution_count": 2,
   "metadata": {},
   "outputs": [
    {
     "name": "stdout",
     "output_type": "stream",
     "text": [
      "(512087, 11) (36000, 9)\n"
     ]
    }
   ],
   "source": [
    "train = pd.read_csv('train.csv')\n",
    "test = pd.read_csv('test.csv')\n",
    "\n",
    "print(train.shape, test.shape)"
   ]
  },
  {
   "cell_type": "code",
   "execution_count": 3,
   "metadata": {},
   "outputs": [
    {
     "data": {
      "text/html": [
       "<div>\n",
       "<style scoped>\n",
       "    .dataframe tbody tr th:only-of-type {\n",
       "        vertical-align: middle;\n",
       "    }\n",
       "\n",
       "    .dataframe tbody tr th {\n",
       "        vertical-align: top;\n",
       "    }\n",
       "\n",
       "    .dataframe thead th {\n",
       "        text-align: right;\n",
       "    }\n",
       "</style>\n",
       "<table border=\"1\" class=\"dataframe\">\n",
       "  <thead>\n",
       "    <tr style=\"text-align: right;\">\n",
       "      <th></th>\n",
       "      <th>ID</th>\n",
       "      <th>Day_No</th>\n",
       "      <th>Course_ID</th>\n",
       "      <th>Course_Domain</th>\n",
       "      <th>Course_Type</th>\n",
       "      <th>Short_Promotion</th>\n",
       "      <th>Public_Holiday</th>\n",
       "      <th>Long_Promotion</th>\n",
       "      <th>User_Traffic</th>\n",
       "      <th>Competition_Metric</th>\n",
       "      <th>Sales</th>\n",
       "    </tr>\n",
       "  </thead>\n",
       "  <tbody>\n",
       "    <tr>\n",
       "      <th>0</th>\n",
       "      <td>1</td>\n",
       "      <td>1</td>\n",
       "      <td>1</td>\n",
       "      <td>Development</td>\n",
       "      <td>Course</td>\n",
       "      <td>0</td>\n",
       "      <td>1</td>\n",
       "      <td>1</td>\n",
       "      <td>11004</td>\n",
       "      <td>0.007</td>\n",
       "      <td>81</td>\n",
       "    </tr>\n",
       "    <tr>\n",
       "      <th>1</th>\n",
       "      <td>2</td>\n",
       "      <td>2</td>\n",
       "      <td>1</td>\n",
       "      <td>Development</td>\n",
       "      <td>Course</td>\n",
       "      <td>0</td>\n",
       "      <td>0</td>\n",
       "      <td>1</td>\n",
       "      <td>13650</td>\n",
       "      <td>0.007</td>\n",
       "      <td>79</td>\n",
       "    </tr>\n",
       "    <tr>\n",
       "      <th>2</th>\n",
       "      <td>3</td>\n",
       "      <td>3</td>\n",
       "      <td>1</td>\n",
       "      <td>Development</td>\n",
       "      <td>Course</td>\n",
       "      <td>0</td>\n",
       "      <td>0</td>\n",
       "      <td>1</td>\n",
       "      <td>11655</td>\n",
       "      <td>0.007</td>\n",
       "      <td>75</td>\n",
       "    </tr>\n",
       "    <tr>\n",
       "      <th>3</th>\n",
       "      <td>4</td>\n",
       "      <td>4</td>\n",
       "      <td>1</td>\n",
       "      <td>Development</td>\n",
       "      <td>Course</td>\n",
       "      <td>0</td>\n",
       "      <td>0</td>\n",
       "      <td>1</td>\n",
       "      <td>12054</td>\n",
       "      <td>0.007</td>\n",
       "      <td>80</td>\n",
       "    </tr>\n",
       "    <tr>\n",
       "      <th>4</th>\n",
       "      <td>5</td>\n",
       "      <td>5</td>\n",
       "      <td>1</td>\n",
       "      <td>Development</td>\n",
       "      <td>Course</td>\n",
       "      <td>0</td>\n",
       "      <td>0</td>\n",
       "      <td>1</td>\n",
       "      <td>6804</td>\n",
       "      <td>0.007</td>\n",
       "      <td>41</td>\n",
       "    </tr>\n",
       "  </tbody>\n",
       "</table>\n",
       "</div>"
      ],
      "text/plain": [
       "   ID  Day_No  Course_ID Course_Domain Course_Type  Short_Promotion  \\\n",
       "0   1       1          1   Development      Course                0   \n",
       "1   2       2          1   Development      Course                0   \n",
       "2   3       3          1   Development      Course                0   \n",
       "3   4       4          1   Development      Course                0   \n",
       "4   5       5          1   Development      Course                0   \n",
       "\n",
       "   Public_Holiday  Long_Promotion  User_Traffic  Competition_Metric  Sales  \n",
       "0               1               1         11004               0.007     81  \n",
       "1               0               1         13650               0.007     79  \n",
       "2               0               1         11655               0.007     75  \n",
       "3               0               1         12054               0.007     80  \n",
       "4               0               1          6804               0.007     41  "
      ]
     },
     "execution_count": 3,
     "metadata": {},
     "output_type": "execute_result"
    }
   ],
   "source": [
    "train.head()"
   ]
  },
  {
   "cell_type": "code",
   "execution_count": 4,
   "metadata": {},
   "outputs": [
    {
     "data": {
      "text/plain": [
       "ID                    512087\n",
       "Day_No                   882\n",
       "Course_ID                600\n",
       "Course_Domain              4\n",
       "Course_Type                3\n",
       "Short_Promotion            2\n",
       "Public_Holiday             2\n",
       "Long_Promotion             2\n",
       "User_Traffic            3475\n",
       "Competition_Metric       196\n",
       "Sales                    544\n",
       "dtype: int64"
      ]
     },
     "execution_count": 4,
     "metadata": {},
     "output_type": "execute_result"
    }
   ],
   "source": [
    "train.nunique()"
   ]
  },
  {
   "cell_type": "code",
   "execution_count": 5,
   "metadata": {},
   "outputs": [
    {
     "name": "stdout",
     "output_type": "stream",
     "text": [
      "<class 'pandas.core.frame.DataFrame'>\n",
      "RangeIndex: 512087 entries, 0 to 512086\n",
      "Data columns (total 11 columns):\n",
      " #   Column              Non-Null Count   Dtype  \n",
      "---  ------              --------------   -----  \n",
      " 0   ID                  512087 non-null  int64  \n",
      " 1   Day_No              512087 non-null  int64  \n",
      " 2   Course_ID           512087 non-null  int64  \n",
      " 3   Course_Domain       512087 non-null  object \n",
      " 4   Course_Type         512087 non-null  object \n",
      " 5   Short_Promotion     512087 non-null  int64  \n",
      " 6   Public_Holiday      512087 non-null  int64  \n",
      " 7   Long_Promotion      512087 non-null  int64  \n",
      " 8   User_Traffic        512087 non-null  int64  \n",
      " 9   Competition_Metric  510323 non-null  float64\n",
      " 10  Sales               512087 non-null  int64  \n",
      "dtypes: float64(1), int64(8), object(2)\n",
      "memory usage: 43.0+ MB\n"
     ]
    }
   ],
   "source": [
    "train.info()"
   ]
  },
  {
   "cell_type": "code",
   "execution_count": 6,
   "metadata": {},
   "outputs": [
    {
     "data": {
      "text/html": [
       "<div>\n",
       "<style scoped>\n",
       "    .dataframe tbody tr th:only-of-type {\n",
       "        vertical-align: middle;\n",
       "    }\n",
       "\n",
       "    .dataframe tbody tr th {\n",
       "        vertical-align: top;\n",
       "    }\n",
       "\n",
       "    .dataframe thead th {\n",
       "        text-align: right;\n",
       "    }\n",
       "</style>\n",
       "<table border=\"1\" class=\"dataframe\">\n",
       "  <thead>\n",
       "    <tr style=\"text-align: right;\">\n",
       "      <th></th>\n",
       "      <th>ID</th>\n",
       "      <th>Day_No</th>\n",
       "      <th>Course_ID</th>\n",
       "      <th>Short_Promotion</th>\n",
       "      <th>Public_Holiday</th>\n",
       "      <th>Long_Promotion</th>\n",
       "      <th>User_Traffic</th>\n",
       "      <th>Competition_Metric</th>\n",
       "      <th>Sales</th>\n",
       "    </tr>\n",
       "  </thead>\n",
       "  <tbody>\n",
       "    <tr>\n",
       "      <th>count</th>\n",
       "      <td>512087.000000</td>\n",
       "      <td>512087.000000</td>\n",
       "      <td>512087.000000</td>\n",
       "      <td>512087.000000</td>\n",
       "      <td>512087.000000</td>\n",
       "      <td>512087.000000</td>\n",
       "      <td>512087.000000</td>\n",
       "      <td>510323.000000</td>\n",
       "      <td>512087.000000</td>\n",
       "    </tr>\n",
       "    <tr>\n",
       "      <th>mean</th>\n",
       "      <td>274007.300650</td>\n",
       "      <td>434.917869</td>\n",
       "      <td>300.388344</td>\n",
       "      <td>0.380244</td>\n",
       "      <td>0.031639</td>\n",
       "      <td>0.488968</td>\n",
       "      <td>15375.101198</td>\n",
       "      <td>0.073345</td>\n",
       "      <td>120.826924</td>\n",
       "    </tr>\n",
       "    <tr>\n",
       "      <th>std</th>\n",
       "      <td>158228.834029</td>\n",
       "      <td>256.044161</td>\n",
       "      <td>173.365787</td>\n",
       "      <td>0.485447</td>\n",
       "      <td>0.175038</td>\n",
       "      <td>0.499879</td>\n",
       "      <td>7727.231205</td>\n",
       "      <td>0.100115</td>\n",
       "      <td>54.355258</td>\n",
       "    </tr>\n",
       "    <tr>\n",
       "      <th>min</th>\n",
       "      <td>1.000000</td>\n",
       "      <td>1.000000</td>\n",
       "      <td>1.000000</td>\n",
       "      <td>0.000000</td>\n",
       "      <td>0.000000</td>\n",
       "      <td>0.000000</td>\n",
       "      <td>168.000000</td>\n",
       "      <td>0.000000</td>\n",
       "      <td>0.000000</td>\n",
       "    </tr>\n",
       "    <tr>\n",
       "      <th>25%</th>\n",
       "      <td>136962.500000</td>\n",
       "      <td>214.000000</td>\n",
       "      <td>150.000000</td>\n",
       "      <td>0.000000</td>\n",
       "      <td>0.000000</td>\n",
       "      <td>0.000000</td>\n",
       "      <td>10584.000000</td>\n",
       "      <td>0.010000</td>\n",
       "      <td>84.000000</td>\n",
       "    </tr>\n",
       "    <tr>\n",
       "      <th>50%</th>\n",
       "      <td>273984.000000</td>\n",
       "      <td>427.000000</td>\n",
       "      <td>300.000000</td>\n",
       "      <td>0.000000</td>\n",
       "      <td>0.000000</td>\n",
       "      <td>0.000000</td>\n",
       "      <td>13776.000000</td>\n",
       "      <td>0.035000</td>\n",
       "      <td>111.000000</td>\n",
       "    </tr>\n",
       "    <tr>\n",
       "      <th>75%</th>\n",
       "      <td>411065.500000</td>\n",
       "      <td>658.000000</td>\n",
       "      <td>451.000000</td>\n",
       "      <td>1.000000</td>\n",
       "      <td>0.000000</td>\n",
       "      <td>1.000000</td>\n",
       "      <td>18123.000000</td>\n",
       "      <td>0.094000</td>\n",
       "      <td>146.000000</td>\n",
       "    </tr>\n",
       "    <tr>\n",
       "      <th>max</th>\n",
       "      <td>548027.000000</td>\n",
       "      <td>882.000000</td>\n",
       "      <td>600.000000</td>\n",
       "      <td>1.000000</td>\n",
       "      <td>1.000000</td>\n",
       "      <td>1.000000</td>\n",
       "      <td>100002.000000</td>\n",
       "      <td>0.768000</td>\n",
       "      <td>682.000000</td>\n",
       "    </tr>\n",
       "  </tbody>\n",
       "</table>\n",
       "</div>"
      ],
      "text/plain": [
       "                  ID         Day_No      Course_ID  Short_Promotion  \\\n",
       "count  512087.000000  512087.000000  512087.000000    512087.000000   \n",
       "mean   274007.300650     434.917869     300.388344         0.380244   \n",
       "std    158228.834029     256.044161     173.365787         0.485447   \n",
       "min         1.000000       1.000000       1.000000         0.000000   \n",
       "25%    136962.500000     214.000000     150.000000         0.000000   \n",
       "50%    273984.000000     427.000000     300.000000         0.000000   \n",
       "75%    411065.500000     658.000000     451.000000         1.000000   \n",
       "max    548027.000000     882.000000     600.000000         1.000000   \n",
       "\n",
       "       Public_Holiday  Long_Promotion   User_Traffic  Competition_Metric  \\\n",
       "count   512087.000000   512087.000000  512087.000000       510323.000000   \n",
       "mean         0.031639        0.488968   15375.101198            0.073345   \n",
       "std          0.175038        0.499879    7727.231205            0.100115   \n",
       "min          0.000000        0.000000     168.000000            0.000000   \n",
       "25%          0.000000        0.000000   10584.000000            0.010000   \n",
       "50%          0.000000        0.000000   13776.000000            0.035000   \n",
       "75%          0.000000        1.000000   18123.000000            0.094000   \n",
       "max          1.000000        1.000000  100002.000000            0.768000   \n",
       "\n",
       "               Sales  \n",
       "count  512087.000000  \n",
       "mean      120.826924  \n",
       "std        54.355258  \n",
       "min         0.000000  \n",
       "25%        84.000000  \n",
       "50%       111.000000  \n",
       "75%       146.000000  \n",
       "max       682.000000  "
      ]
     },
     "execution_count": 6,
     "metadata": {},
     "output_type": "execute_result"
    }
   ],
   "source": [
    "train.describe()"
   ]
  },
  {
   "cell_type": "markdown",
   "metadata": {},
   "source": [
    "### Missing values"
   ]
  },
  {
   "cell_type": "code",
   "execution_count": 7,
   "metadata": {},
   "outputs": [],
   "source": [
    "#Function to check null values\n",
    "def null_check(df, heatmap=False):\n",
    "    if heatmap:\n",
    "        plt.figure(figsize=(15,12))\n",
    "        sns.heatmap(df.isnull())\n",
    "        plt.show()\n",
    "    \n",
    "    nulls = pd.DataFrame({'count':df.isnull().sum(),'percent':round(df.isnull().sum()*100/df.shape[0],2)})\n",
    "    return nulls[nulls['count']>0].sort_values('count',ascending=False)"
   ]
  },
  {
   "cell_type": "code",
   "execution_count": 8,
   "metadata": {},
   "outputs": [
    {
     "data": {
      "text/html": [
       "<div>\n",
       "<style scoped>\n",
       "    .dataframe tbody tr th:only-of-type {\n",
       "        vertical-align: middle;\n",
       "    }\n",
       "\n",
       "    .dataframe tbody tr th {\n",
       "        vertical-align: top;\n",
       "    }\n",
       "\n",
       "    .dataframe thead th {\n",
       "        text-align: right;\n",
       "    }\n",
       "</style>\n",
       "<table border=\"1\" class=\"dataframe\">\n",
       "  <thead>\n",
       "    <tr style=\"text-align: right;\">\n",
       "      <th></th>\n",
       "      <th>count</th>\n",
       "      <th>percent</th>\n",
       "    </tr>\n",
       "  </thead>\n",
       "  <tbody>\n",
       "    <tr>\n",
       "      <th>Competition_Metric</th>\n",
       "      <td>1764</td>\n",
       "      <td>0.34</td>\n",
       "    </tr>\n",
       "  </tbody>\n",
       "</table>\n",
       "</div>"
      ],
      "text/plain": [
       "                    count  percent\n",
       "Competition_Metric   1764     0.34"
      ]
     },
     "execution_count": 8,
     "metadata": {},
     "output_type": "execute_result"
    }
   ],
   "source": [
    "#Missing values in 'train'\n",
    "null_check(train)"
   ]
  },
  {
   "cell_type": "code",
   "execution_count": 9,
   "metadata": {},
   "outputs": [
    {
     "data": {
      "text/html": [
       "<div>\n",
       "<style scoped>\n",
       "    .dataframe tbody tr th:only-of-type {\n",
       "        vertical-align: middle;\n",
       "    }\n",
       "\n",
       "    .dataframe tbody tr th {\n",
       "        vertical-align: top;\n",
       "    }\n",
       "\n",
       "    .dataframe thead th {\n",
       "        text-align: right;\n",
       "    }\n",
       "</style>\n",
       "<table border=\"1\" class=\"dataframe\">\n",
       "  <thead>\n",
       "    <tr style=\"text-align: right;\">\n",
       "      <th></th>\n",
       "      <th>count</th>\n",
       "      <th>percent</th>\n",
       "    </tr>\n",
       "  </thead>\n",
       "  <tbody>\n",
       "    <tr>\n",
       "      <th>Competition_Metric</th>\n",
       "      <td>120</td>\n",
       "      <td>0.33</td>\n",
       "    </tr>\n",
       "  </tbody>\n",
       "</table>\n",
       "</div>"
      ],
      "text/plain": [
       "                    count  percent\n",
       "Competition_Metric    120     0.33"
      ]
     },
     "execution_count": 9,
     "metadata": {},
     "output_type": "execute_result"
    }
   ],
   "source": [
    "#Missing values in 'test'\n",
    "null_check(test)"
   ]
  },
  {
   "cell_type": "markdown",
   "metadata": {},
   "source": [
    "Missing value % is low, we will try to impute."
   ]
  },
  {
   "cell_type": "code",
   "execution_count": 10,
   "metadata": {},
   "outputs": [
    {
     "data": {
      "text/plain": [
       "count    510323.000000\n",
       "mean          0.073345\n",
       "std           0.100115\n",
       "min           0.000000\n",
       "25%           0.010000\n",
       "50%           0.035000\n",
       "75%           0.094000\n",
       "max           0.768000\n",
       "Name: Competition_Metric, dtype: float64"
      ]
     },
     "execution_count": 10,
     "metadata": {},
     "output_type": "execute_result"
    }
   ],
   "source": [
    "train['Competition_Metric'].describe()"
   ]
  },
  {
   "cell_type": "code",
   "execution_count": 11,
   "metadata": {},
   "outputs": [
    {
     "data": {
      "text/plain": [
       "<AxesSubplot:>"
      ]
     },
     "execution_count": 11,
     "metadata": {},
     "output_type": "execute_result"
    },
    {
     "data": {
      "image/png": "[encoded data removed]",
      "text/plain": [
       "<Figure size 432x288 with 1 Axes>"
      ]
     },
     "metadata": {
      "needs_background": "light"
     },
     "output_type": "display_data"
    }
   ],
   "source": [
    "train['Competition_Metric'].plot(kind='box')"
   ]
  },
  {
   "cell_type": "markdown",
   "metadata": {},
   "source": [
    "Imputing with median due to presence of outliers."
   ]
  },
  {
   "cell_type": "code",
   "execution_count": 12,
   "metadata": {},
   "outputs": [],
   "source": [
    "train['Competition_Metric'].fillna(train['Competition_Metric'].median(), inplace=True)\n",
    "test['Competition_Metric'].fillna(train['Competition_Metric'].median(), inplace=True)"
   ]
  },
  {
   "cell_type": "markdown",
   "metadata": {},
   "source": [
    "### Checking categories"
   ]
  },
  {
   "cell_type": "code",
   "execution_count": 13,
   "metadata": {},
   "outputs": [
    {
     "name": "stdout",
     "output_type": "stream",
     "text": [
      "Course_Domain (%)\n",
      "``````````````````````````````````````````````````\n",
      "Development             51.61\n",
      "Software Marketing      32.45\n",
      "Finance & Accounting    15.08\n",
      "Business                 0.86\n",
      "Name: Course_Domain, dtype: float64\n",
      "\n",
      "Course_Type (%)\n",
      "``````````````````````````````````````````````````\n",
      "Course     51.31\n",
      "Program    48.35\n",
      "Degree      0.34\n",
      "Name: Course_Type, dtype: float64\n",
      "\n",
      "Short_Promotion (%)\n",
      "``````````````````````````````````````````````````\n",
      "0    61.98\n",
      "1    38.02\n",
      "Name: Short_Promotion, dtype: float64\n",
      "\n",
      "Public_Holiday (%)\n",
      "``````````````````````````````````````````````````\n",
      "0    96.84\n",
      "1     3.16\n",
      "Name: Public_Holiday, dtype: float64\n",
      "\n",
      "Long_Promotion (%)\n",
      "``````````````````````````````````````````````````\n",
      "0    51.1\n",
      "1    48.9\n",
      "Name: Long_Promotion, dtype: float64\n",
      "\n"
     ]
    }
   ],
   "source": [
    "#Checking the categories in categorical columns\n",
    "for i in train.columns:\n",
    "    if train[i].nunique() < 25:\n",
    "        print(i+' (%)')\n",
    "        print('`'*50)\n",
    "        print(round(train[i].value_counts(normalize=True, dropna=False),4)*100)\n",
    "        print()"
   ]
  },
  {
   "cell_type": "markdown",
   "metadata": {},
   "source": [
    "No ill-categories or skewed categories(Except `Public_Holiday`)."
   ]
  },
  {
   "cell_type": "markdown",
   "metadata": {},
   "source": [
    "##### Dropping 'ID'  since it's just a identifier, also dropping 'User_Traffic' since this data is not available in test set."
   ]
  },
  {
   "cell_type": "code",
   "execution_count": 14,
   "metadata": {},
   "outputs": [],
   "source": [
    "#Dropping in train\n",
    "train.drop(['ID','User_Traffic'], axis=1, inplace=True)"
   ]
  },
  {
   "cell_type": "code",
   "execution_count": 15,
   "metadata": {},
   "outputs": [],
   "source": [
    "#Dropping in test | storing in original 'test' for final submission\n",
    "test_f = test.drop('ID', axis=1)"
   ]
  },
  {
   "cell_type": "markdown",
   "metadata": {},
   "source": [
    "### Univariate Analysis"
   ]
  },
  {
   "cell_type": "code",
   "execution_count": 16,
   "metadata": {},
   "outputs": [],
   "source": [
    "#Function for categorical columns\n",
    "def uni_cat(col, df, rot=0):\n",
    "    #Value counts of categories \n",
    "    print(f'Counts of {col}')\n",
    "    print('-'*25)\n",
    "    print(pd.DataFrame({'#':df[col].value_counts(dropna=False), '%':round(df[col].value_counts(normalize=True, dropna=False)*100,2)}))\n",
    "    \n",
    "    #Countplots\n",
    "    plt.figure(figsize=(15,4))\n",
    "    sns.countplot(df[col])\n",
    "    plt.title(f'Counts in {col}')\n",
    "    plt.xticks(rotation=rot)\n",
    "    plt.show()\n",
    "\n",
    "#Function for numerical columns\n",
    "def uni_num(col, df, new_percentiles=[]):\n",
    "    #Null values\n",
    "    if df[col].isnull().sum()>0:\n",
    "        print(f'Null values in {col}: {df[col].isnull().sum()}')\n",
    "    \n",
    "    #Description of column\n",
    "    print(f'Desription of {col}')\n",
    "    print('-'*25)\n",
    "    percentiles=[0.1,0.25,0.5,0.75,0.9]\n",
    "    percentiles.extend(new_percentiles)\n",
    "    print(df[col].describe(percentiles=percentiles))\n",
    "    \n",
    "    #Subplots\n",
    "    fig,axes=plt.subplots(1,2, figsize=(15,4))\n",
    "    \n",
    "    #Distribution plot\n",
    "    sns.distplot(df[col], ax=axes[0])\n",
    "    axes[0].set_title(f'Distribution of {col}')\n",
    "    \n",
    "    #Boxplot\n",
    "    sns.boxplot(df[col], ax=axes[1])\n",
    "    axes[1].set_title(f'Boxplot of {col}')\n",
    "    \n",
    "    plt.show()"
   ]
  },
  {
   "cell_type": "markdown",
   "metadata": {},
   "source": [
    "#### `Day_No`"
   ]
  },
  {
   "cell_type": "code",
   "execution_count": 17,
   "metadata": {},
   "outputs": [
    {
     "name": "stdout",
     "output_type": "stream",
     "text": [
      "Desription of Day_No\n",
      "-------------------------\n",
      "count    512087.000000\n",
      "mean        434.917869\n",
      "std         256.044161\n",
      "min           1.000000\n",
      "10%          86.000000\n",
      "25%         214.000000\n",
      "50%         427.000000\n",
      "75%         658.000000\n",
      "90%         797.000000\n",
      "max         882.000000\n",
      "Name: Day_No, dtype: float64\n"
     ]
    },
    {
     "data": {
      "image/png": "[encoded data removed]",
      "text/plain": [
       "<Figure size 1080x288 with 2 Axes>"
      ]
     },
     "metadata": {
      "needs_background": "light"
     },
     "output_type": "display_data"
    }
   ],
   "source": [
    "uni_num('Day_No', train)"
   ]
  },
  {
   "cell_type": "markdown",
   "metadata": {},
   "source": [
    "The amount of data seems to be consistent across all the 'number of days' except between ~500-700. We will drop this after creating a new feature `Day_Of_Week`"
   ]
  },
  {
   "cell_type": "code",
   "execution_count": 50,
   "metadata": {},
   "outputs": [
    {
     "name": "stdout",
     "output_type": "stream",
     "text": [
      "Counts of Day_Of_Week\n",
      "-------------------------\n",
      "       #      %\n",
      "6  73182  14.29\n",
      "5  73182  14.29\n",
      "4  73182  14.29\n",
      "3  73182  14.29\n",
      "0  73182  14.29\n",
      "2  73089  14.27\n",
      "1  73088  14.27\n"
     ]
    },
    {
     "data": {
      "image/png": "[encoded data removed]",
      "text/plain": [
       "<Figure size 1080x288 with 1 Axes>"
      ]
     },
     "metadata": {
      "needs_background": "light"
     },
     "output_type": "display_data"
    }
   ],
   "source": [
    "train['Day_Of_Week'] = train['Day_No'].apply(lambda x: x%7)\n",
    "test['Day_Of_Week'] = test['Day_No'].apply(lambda x: x%7)\n",
    "\n",
    "uni_cat('Day_Of_Week', train)"
   ]
  },
  {
   "cell_type": "code",
   "execution_count": 51,
   "metadata": {},
   "outputs": [],
   "source": [
    "train.drop('Day_No', axis=1, inplace=True)\n",
    "test_f.drop('Day_No', axis=1, inplace=True)"
   ]
  },
  {
   "cell_type": "markdown",
   "metadata": {},
   "source": [
    "#### `Course_ID`"
   ]
  },
  {
   "cell_type": "code",
   "execution_count": 17,
   "metadata": {},
   "outputs": [
    {
     "name": "stdout",
     "output_type": "stream",
     "text": [
      "Desription of Course_ID\n",
      "-------------------------\n",
      "count    512087.000000\n",
      "mean        300.388344\n",
      "std         173.365787\n",
      "min           1.000000\n",
      "10%          60.000000\n",
      "25%         150.000000\n",
      "50%         300.000000\n",
      "75%         451.000000\n",
      "90%         541.000000\n",
      "max         600.000000\n",
      "Name: Course_ID, dtype: float64\n"
     ]
    },
    {
     "data": {
      "image/png": "[encoded data removed]",
      "text/plain": [
       "<Figure size 1080x288 with 2 Axes>"
      ]
     },
     "metadata": {
      "needs_background": "light"
     },
     "output_type": "display_data"
    }
   ],
   "source": [
    "uni_num('Course_ID', train)"
   ]
  },
  {
   "cell_type": "code",
   "execution_count": 18,
   "metadata": {
    "scrolled": true
   },
   "outputs": [
    {
     "data": {
      "text/plain": [
       "array([882, 881, 698], dtype=int64)"
      ]
     },
     "execution_count": 18,
     "metadata": {},
     "output_type": "execute_result"
    }
   ],
   "source": [
    "#Unique counts of course IDs\n",
    "train['Course_ID'].value_counts().unique()"
   ]
  },
  {
   "cell_type": "markdown",
   "metadata": {},
   "source": [
    "Based on the above counts, we will rank the course_ID based on the enrollment counts in ascending order."
   ]
  },
  {
   "cell_type": "code",
   "execution_count": 19,
   "metadata": {},
   "outputs": [
    {
     "data": {
      "text/html": [
       "<div>\n",
       "<style scoped>\n",
       "    .dataframe tbody tr th:only-of-type {\n",
       "        vertical-align: middle;\n",
       "    }\n",
       "\n",
       "    .dataframe tbody tr th {\n",
       "        vertical-align: top;\n",
       "    }\n",
       "\n",
       "    .dataframe thead th {\n",
       "        text-align: right;\n",
       "    }\n",
       "</style>\n",
       "<table border=\"1\" class=\"dataframe\">\n",
       "  <thead>\n",
       "    <tr style=\"text-align: right;\">\n",
       "      <th></th>\n",
       "      <th>Course_ID</th>\n",
       "      <th>Rank</th>\n",
       "    </tr>\n",
       "  </thead>\n",
       "  <tbody>\n",
       "    <tr>\n",
       "      <th>0</th>\n",
       "      <td>361</td>\n",
       "      <td>3</td>\n",
       "    </tr>\n",
       "    <tr>\n",
       "      <th>1</th>\n",
       "      <td>326</td>\n",
       "      <td>3</td>\n",
       "    </tr>\n",
       "    <tr>\n",
       "      <th>2</th>\n",
       "      <td>584</td>\n",
       "      <td>3</td>\n",
       "    </tr>\n",
       "    <tr>\n",
       "      <th>3</th>\n",
       "      <td>328</td>\n",
       "      <td>3</td>\n",
       "    </tr>\n",
       "    <tr>\n",
       "      <th>4</th>\n",
       "      <td>72</td>\n",
       "      <td>3</td>\n",
       "    </tr>\n",
       "    <tr>\n",
       "      <th>...</th>\n",
       "      <td>...</td>\n",
       "      <td>...</td>\n",
       "    </tr>\n",
       "    <tr>\n",
       "      <th>595</th>\n",
       "      <td>407</td>\n",
       "      <td>1</td>\n",
       "    </tr>\n",
       "    <tr>\n",
       "      <th>596</th>\n",
       "      <td>592</td>\n",
       "      <td>1</td>\n",
       "    </tr>\n",
       "    <tr>\n",
       "      <th>597</th>\n",
       "      <td>78</td>\n",
       "      <td>1</td>\n",
       "    </tr>\n",
       "    <tr>\n",
       "      <th>598</th>\n",
       "      <td>551</td>\n",
       "      <td>1</td>\n",
       "    </tr>\n",
       "    <tr>\n",
       "      <th>599</th>\n",
       "      <td>511</td>\n",
       "      <td>1</td>\n",
       "    </tr>\n",
       "  </tbody>\n",
       "</table>\n",
       "<p>600 rows × 2 columns</p>\n",
       "</div>"
      ],
      "text/plain": [
       "     Course_ID  Rank\n",
       "0          361     3\n",
       "1          326     3\n",
       "2          584     3\n",
       "3          328     3\n",
       "4           72     3\n",
       "..         ...   ...\n",
       "595        407     1\n",
       "596        592     1\n",
       "597         78     1\n",
       "598        551     1\n",
       "599        511     1\n",
       "\n",
       "[600 rows x 2 columns]"
      ]
     },
     "execution_count": 19,
     "metadata": {},
     "output_type": "execute_result"
    }
   ],
   "source": [
    "#Creating a ranked dataframed\n",
    "Course_ID_ranks = pd.DataFrame(train['Course_ID'].value_counts().map({882:3,881:2,698:1})).reset_index()\n",
    "Course_ID_ranks.columns = ['Course_ID','Rank']\n",
    "Course_ID_ranks"
   ]
  },
  {
   "cell_type": "code",
   "execution_count": 20,
   "metadata": {},
   "outputs": [],
   "source": [
    "#Adding rank column\n",
    "train = train.merge(Course_ID_ranks, how='left')\n",
    "test_f = test_f.merge(Course_ID_ranks, how='left')"
   ]
  },
  {
   "cell_type": "code",
   "execution_count": 21,
   "metadata": {},
   "outputs": [
    {
     "name": "stdout",
     "output_type": "stream",
     "text": [
      "Counts of Rank\n",
      "-------------------------\n",
      "        #      %\n",
      "3  446292  87.15\n",
      "1   64914  12.68\n",
      "2     881   0.17\n"
     ]
    },
    {
     "data": {
      "image/png": "[encoded data removed]",
      "text/plain": [
       "<Figure size 1080x288 with 1 Axes>"
      ]
     },
     "metadata": {
      "needs_background": "light"
     },
     "output_type": "display_data"
    }
   ],
   "source": [
    "uni_cat('Rank', train)"
   ]
  },
  {
   "cell_type": "markdown",
   "metadata": {},
   "source": [
    "The categories seem to be heavily imbalanced."
   ]
  },
  {
   "cell_type": "code",
   "execution_count": 22,
   "metadata": {},
   "outputs": [
    {
     "data": {
      "text/plain": [
       "3    30360\n",
       "1     5580\n",
       "2       60\n",
       "Name: Rank, dtype: int64"
      ]
     },
     "execution_count": 22,
     "metadata": {},
     "output_type": "execute_result"
    }
   ],
   "source": [
    "test_f['Rank'].value_counts(dropna=False)"
   ]
  },
  {
   "cell_type": "code",
   "execution_count": 48,
   "metadata": {},
   "outputs": [],
   "source": [
    "#Dropping 'Course_ID'\n",
    "train.drop('Course_ID', axis=1, inplace=True)\n",
    "test_f.drop('Course_ID', axis=1, inplace=True)"
   ]
  },
  {
   "cell_type": "markdown",
   "metadata": {},
   "source": [
    "#### `Course_Domain`"
   ]
  },
  {
   "cell_type": "code",
   "execution_count": 24,
   "metadata": {},
   "outputs": [
    {
     "name": "stdout",
     "output_type": "stream",
     "text": [
      "Counts of Course_Domain\n",
      "-------------------------\n",
      "                           #      %\n",
      "Development           264295  51.61\n",
      "Software Marketing    166172  32.45\n",
      "Finance & Accounting   77210  15.08\n",
      "Business                4410   0.86\n"
     ]
    },
    {
     "data": {
      "image/png": "[encoded data removed]",
      "text/plain": [
       "<Figure size 1080x288 with 1 Axes>"
      ]
     },
     "metadata": {
      "needs_background": "light"
     },
     "output_type": "display_data"
    }
   ],
   "source": [
    "uni_cat('Course_Domain', train)"
   ]
  },
  {
   "cell_type": "markdown",
   "metadata": {},
   "source": [
    "`Business` will be dropped manually as a category after dummying this column."
   ]
  },
  {
   "cell_type": "markdown",
   "metadata": {},
   "source": [
    "#### `Course_Type`"
   ]
  },
  {
   "cell_type": "code",
   "execution_count": 25,
   "metadata": {},
   "outputs": [
    {
     "name": "stdout",
     "output_type": "stream",
     "text": [
      "Counts of Course_Type\n",
      "-------------------------\n",
      "              #      %\n",
      "Course   262747  51.31\n",
      "Program  247576  48.35\n",
      "Degree     1764   0.34\n"
     ]
    },
    {
     "data": {
      "image/png": "[encoded data removed]",
      "text/plain": [
       "<Figure size 1080x288 with 1 Axes>"
      ]
     },
     "metadata": {
      "needs_background": "light"
     },
     "output_type": "display_data"
    }
   ],
   "source": [
    "uni_cat('Course_Type', train)"
   ]
  },
  {
   "cell_type": "markdown",
   "metadata": {},
   "source": [
    "`Degree` will be dropped manually as a category after dummying this column."
   ]
  },
  {
   "cell_type": "markdown",
   "metadata": {},
   "source": [
    "#### `Short_Promotion`"
   ]
  },
  {
   "cell_type": "code",
   "execution_count": 26,
   "metadata": {},
   "outputs": [
    {
     "name": "stdout",
     "output_type": "stream",
     "text": [
      "Counts of Short_Promotion\n",
      "-------------------------\n",
      "        #      %\n",
      "0  317369  61.98\n",
      "1  194718  38.02\n"
     ]
    },
    {
     "data": {
      "image/png": "[encoded data removed]",
      "text/plain": [
       "<Figure size 1080x288 with 1 Axes>"
      ]
     },
     "metadata": {
      "needs_background": "light"
     },
     "output_type": "display_data"
    }
   ],
   "source": [
    "uni_cat('Short_Promotion', train)"
   ]
  },
  {
   "cell_type": "code",
   "execution_count": 27,
   "metadata": {},
   "outputs": [
    {
     "name": "stdout",
     "output_type": "stream",
     "text": [
      "Counts of Public_Holiday\n",
      "-------------------------\n",
      "        #      %\n",
      "0  495885  96.84\n",
      "1   16202   3.16\n"
     ]
    },
    {
     "data": {
      "image/png": "[encoded data removed]",
      "text/plain": [
       "<Figure size 1080x288 with 1 Axes>"
      ]
     },
     "metadata": {
      "needs_background": "light"
     },
     "output_type": "display_data"
    }
   ],
   "source": [
    "uni_cat('Public_Holiday', train)"
   ]
  },
  {
   "cell_type": "markdown",
   "metadata": {},
   "source": [
    "The category is highly skewed. It would be better to drop it."
   ]
  },
  {
   "cell_type": "code",
   "execution_count": 28,
   "metadata": {},
   "outputs": [],
   "source": [
    "train.drop('Public_Holiday', axis=1, inplace=True)"
   ]
  },
  {
   "cell_type": "markdown",
   "metadata": {},
   "source": [
    "#### `Long_Promotion`"
   ]
  },
  {
   "cell_type": "code",
   "execution_count": 29,
   "metadata": {},
   "outputs": [
    {
     "name": "stdout",
     "output_type": "stream",
     "text": [
      "Counts of Long_Promotion\n",
      "-------------------------\n",
      "        #     %\n",
      "0  261693  51.1\n",
      "1  250394  48.9\n"
     ]
    },
    {
     "data": {
      "image/png": "[encoded data removed]",
      "text/plain": [
       "<Figure size 1080x288 with 1 Axes>"
      ]
     },
     "metadata": {
      "needs_background": "light"
     },
     "output_type": "display_data"
    }
   ],
   "source": [
    "uni_cat('Long_Promotion', train)"
   ]
  },
  {
   "cell_type": "markdown",
   "metadata": {},
   "source": [
    "#### `Competition_Metric`"
   ]
  },
  {
   "cell_type": "code",
   "execution_count": 31,
   "metadata": {},
   "outputs": [
    {
     "name": "stdout",
     "output_type": "stream",
     "text": [
      "Desription of Competition_Metric\n",
      "-------------------------\n",
      "count    512087.000000\n",
      "mean          0.073213\n",
      "std           0.099968\n",
      "min           0.000000\n",
      "10%           0.003000\n",
      "25%           0.010000\n",
      "50%           0.035000\n",
      "75%           0.094000\n",
      "90%           0.213000\n",
      "max           0.768000\n",
      "Name: Competition_Metric, dtype: float64\n"
     ]
    },
    {
     "data": {
      "image/png": "[encoded data removed]",
      "text/plain": [
       "<Figure size 1080x288 with 2 Axes>"
      ]
     },
     "metadata": {
      "needs_background": "light"
     },
     "output_type": "display_data"
    }
   ],
   "source": [
    "uni_num('Competition_Metric', train)"
   ]
  },
  {
   "cell_type": "markdown",
   "metadata": {},
   "source": [
    "The number of outliers are quite high, most probably _`log transformation`_ will be helpful."
   ]
  },
  {
   "cell_type": "code",
   "execution_count": 32,
   "metadata": {},
   "outputs": [
    {
     "data": {
      "text/plain": [
       "count    512087.000000\n",
       "mean         -3.468118\n",
       "std           1.462640\n",
       "min          -6.907755\n",
       "25%          -4.509860\n",
       "50%          -3.324236\n",
       "75%          -2.353878\n",
       "max          -0.262664\n",
       "Name: Competition_Metric, dtype: float64"
      ]
     },
     "execution_count": 32,
     "metadata": {},
     "output_type": "execute_result"
    },
    {
     "data": {
      "image/png": "[encoded data removed]",
      "text/plain": [
       "<Figure size 432x288 with 1 Axes>"
      ]
     },
     "metadata": {
      "needs_background": "light"
     },
     "output_type": "display_data"
    }
   ],
   "source": [
    "#Checking with log transformation\n",
    "np.log(train['Competition_Metric']+0.001).plot(kind='box')\n",
    "np.log(train['Competition_Metric']+0.001).describe()"
   ]
  },
  {
   "cell_type": "markdown",
   "metadata": {},
   "source": [
    "Since the log transformation works well to treat the outliers, respective treatment will be applied."
   ]
  },
  {
   "cell_type": "code",
   "execution_count": 33,
   "metadata": {},
   "outputs": [],
   "source": [
    "#Transforming in both sets\n",
    "train['Competition_Metric'] = np.log(train['Competition_Metric']+0.001)\n",
    "test['Competition_Metric'] = np.log(test['Competition_Metric']+0.001)"
   ]
  },
  {
   "cell_type": "markdown",
   "metadata": {},
   "source": [
    "### `Sales` - Target"
   ]
  },
  {
   "cell_type": "code",
   "execution_count": 34,
   "metadata": {},
   "outputs": [
    {
     "name": "stdout",
     "output_type": "stream",
     "text": [
      "Desription of Sales\n",
      "-------------------------\n",
      "count    512087.000000\n",
      "mean        120.826924\n",
      "std          54.355258\n",
      "min           0.000000\n",
      "10%          64.000000\n",
      "25%          84.000000\n",
      "50%         111.000000\n",
      "75%         146.000000\n",
      "90%         189.000000\n",
      "max         682.000000\n",
      "Name: Sales, dtype: float64\n"
     ]
    },
    {
     "data": {
      "image/png": "[encoded data removed]",
      "text/plain": [
       "<Figure size 1080x288 with 2 Axes>"
      ]
     },
     "metadata": {
      "needs_background": "light"
     },
     "output_type": "display_data"
    }
   ],
   "source": [
    "uni_num('Sales', train)"
   ]
  },
  {
   "cell_type": "markdown",
   "metadata": {},
   "source": [
    "The number of outliers are too high. We will try to normalize this plot with the help of a _`square root transformation`_"
   ]
  },
  {
   "cell_type": "code",
   "execution_count": 45,
   "metadata": {},
   "outputs": [],
   "source": [
    "train['Sales'] = np.sqrt(train['Sales'])"
   ]
  },
  {
   "cell_type": "markdown",
   "metadata": {},
   "source": [
    "### Data Preparation"
   ]
  },
  {
   "cell_type": "code",
   "execution_count": 54,
   "metadata": {},
   "outputs": [],
   "source": [
    "#Dummies\n",
    "train_d = pd.get_dummies(train)\n",
    "test_d = pd.get_dummies(test_f)"
   ]
  },
  {
   "cell_type": "markdown",
   "metadata": {},
   "source": [
    "We will drop the categories - `Degree` and `Business` manually from the dummified dataset for both train and test due to low number of observations."
   ]
  },
  {
   "cell_type": "code",
   "execution_count": 55,
   "metadata": {},
   "outputs": [],
   "source": [
    "#Dropping the columns\n",
    "train_d.drop(['Course_Domain_Business', 'Course_Type_Degree'], axis=1, inplace=True)\n",
    "test_d.drop(['Course_Domain_Business', 'Course_Type_Degree'], axis=1, inplace=True)"
   ]
  },
  {
   "cell_type": "code",
   "execution_count": 56,
   "metadata": {},
   "outputs": [
    {
     "data": {
      "text/plain": [
       "<AxesSubplot:>"
      ]
     },
     "execution_count": 56,
     "metadata": {},
     "output_type": "execute_result"
    },
    {
     "data": {
      "image/png": "[encoded data removed]",
      "text/plain": [
       "<Figure size 1080x864 with 2 Axes>"
      ]
     },
     "metadata": {
      "needs_background": "light"
     },
     "output_type": "display_data"
    }
   ],
   "source": [
    "plt.figure(figsize=(15,12))\n",
    "sns.heatmap(train_d.corr(), annot=True)"
   ]
  },
  {
   "cell_type": "code",
   "execution_count": 58,
   "metadata": {},
   "outputs": [
    {
     "name": "stdout",
     "output_type": "stream",
     "text": [
      "(384065, 10)\n",
      "(128022, 10)\n",
      "(384065,)\n",
      "(128022,)\n"
     ]
    }
   ],
   "source": [
    "#Dividing the dataset\n",
    "X = train_d.drop('Sales', axis=1)\n",
    "y = train_d['Sales']\n",
    "\n",
    "#Train-cv split\n",
    "X_train, X_cv, y_train, y_cv = train_test_split(X,y,train_size=0.75, random_state=19)\n",
    "\n",
    "for i in [X_train, X_cv, y_train, y_cv]:\n",
    "    print(i.shape)"
   ]
  },
  {
   "cell_type": "code",
   "execution_count": 62,
   "metadata": {},
   "outputs": [],
   "source": [
    "#Scaling\n",
    "scale = MinMaxScaler()\n",
    "\n",
    "X_train = pd.DataFrame(scale.fit_transform(X_train), columns=X_train.columns)\n",
    "X_cv = scale.transform(X_cv)\n",
    "X_test = scale.transform(test_d)"
   ]
  },
  {
   "cell_type": "markdown",
   "metadata": {},
   "source": [
    "## Modelling"
   ]
  },
  {
   "cell_type": "code",
   "execution_count": 63,
   "metadata": {},
   "outputs": [],
   "source": [
    "#function for the final metric\n",
    "def rmsle(y_true,y_pred):\n",
    "    return 1000*(mean_squared_log_error(y_true,y_pred)**0.5)"
   ]
  },
  {
   "cell_type": "code",
   "execution_count": 64,
   "metadata": {},
   "outputs": [],
   "source": [
    "from sklearn.linear_model import Lasso,Ridge\n",
    "from sklearn.tree import DecisionTreeRegressor\n",
    "from sklearn.ensemble import RandomForestRegressor, AdaBoostRegressor, GradientBoostingRegressor\n",
    "from xgboost import XGBRegressor\n",
    "from lightgbm import LGBMRegressor\n",
    "from sklearn.neighbors import KNeighborsRegressor"
   ]
  },
  {
   "cell_type": "code",
   "execution_count": 65,
   "metadata": {},
   "outputs": [],
   "source": [
    "metrics=pd.DataFrame(columns=['Train','Test'])"
   ]
  },
  {
   "cell_type": "code",
   "execution_count": 66,
   "metadata": {},
   "outputs": [
    {
     "name": "stdout",
     "output_type": "stream",
     "text": [
      "0.5859767367462883 0.5817993372419632\n"
     ]
    }
   ],
   "source": [
    "### KNN\n",
    "\n",
    "model = KNeighborsRegressor()\n",
    "model.fit(X_train,y_train)\n",
    "\n",
    "#Train\n",
    "y_pred_t = model.predict(X_train)\n",
    "train_score = rmsle(y_train,y_pred_t)\n",
    "\n",
    "#Test\n",
    "y_pred_cv = model.predict(X_cv)\n",
    "test_score = rmsle(y_cv,y_pred_cv)\n",
    "\n",
    "metrics.loc['KNN'] = [train_score, test_score]\n",
    "\n",
    "print(model.score(X_train, y_train), model.score(X_cv, y_cv))"
   ]
  },
  {
   "cell_type": "code",
   "execution_count": 67,
   "metadata": {},
   "outputs": [
    {
     "name": "stdout",
     "output_type": "stream",
     "text": [
      "0.0 -4.687530192892808e-07\n"
     ]
    }
   ],
   "source": [
    "### Lasso\n",
    "\n",
    "model = Lasso()\n",
    "model.fit(X_train,y_train)\n",
    "\n",
    "#Train\n",
    "y_pred_t = model.predict(X_train)\n",
    "train_score = rmsle(y_train,y_pred_t)\n",
    "\n",
    "#Test\n",
    "y_pred_cv = model.predict(X_cv)\n",
    "test_score = rmsle(y_cv,y_pred_cv)\n",
    "\n",
    "metrics.loc['Lasso'] = [train_score, test_score]\n",
    "\n",
    "print(model.score(X_train, y_train), model.score(X_cv, y_cv))"
   ]
  },
  {
   "cell_type": "code",
   "execution_count": 68,
   "metadata": {},
   "outputs": [
    {
     "name": "stdout",
     "output_type": "stream",
     "text": [
      "0.19889244877019419 0.1997524292562446\n"
     ]
    }
   ],
   "source": [
    "### Ridge\n",
    "\n",
    "model = Ridge()\n",
    "model.fit(X_train,y_train)\n",
    "\n",
    "#Train\n",
    "y_pred_t = model.predict(X_train)\n",
    "train_score = rmsle(y_train,y_pred_t)\n",
    "\n",
    "#Test\n",
    "y_pred_cv = model.predict(X_cv)\n",
    "test_score = rmsle(y_cv,y_pred_cv)\n",
    "\n",
    "metrics.loc['Ridge'] = [train_score, test_score]\n",
    "\n",
    "print(model.score(X_train, y_train), model.score(X_cv, y_cv))"
   ]
  },
  {
   "cell_type": "code",
   "execution_count": 69,
   "metadata": {},
   "outputs": [
    {
     "name": "stdout",
     "output_type": "stream",
     "text": [
      "0.6549062471282308 0.6514220463034976\n"
     ]
    }
   ],
   "source": [
    "### DecisionTreeRegressor\n",
    "\n",
    "model = DecisionTreeRegressor()\n",
    "model.fit(X_train,y_train)\n",
    "\n",
    "#Train\n",
    "y_pred_t = model.predict(X_train)\n",
    "train_score = rmsle(y_train,y_pred_t)\n",
    "\n",
    "#Test\n",
    "y_pred_cv = model.predict(X_cv)\n",
    "test_score = rmsle(y_cv,y_pred_cv)\n",
    "\n",
    "metrics.loc['DT'] = [train_score, test_score]\n",
    "\n",
    "print(model.score(X_train, y_train), model.score(X_cv, y_cv))"
   ]
  },
  {
   "cell_type": "code",
   "execution_count": 70,
   "metadata": {},
   "outputs": [
    {
     "name": "stdout",
     "output_type": "stream",
     "text": [
      "0.6548631572713458 0.6513855362829231\n"
     ]
    }
   ],
   "source": [
    "### RandomForestRegressor\n",
    "\n",
    "model = RandomForestRegressor()\n",
    "model.fit(X_train,y_train)\n",
    "\n",
    "#Train\n",
    "y_pred_t = model.predict(X_train)\n",
    "train_score = rmsle(y_train,y_pred_t)\n",
    "\n",
    "#Test\n",
    "y_pred_cv = model.predict(X_cv)\n",
    "test_score = rmsle(y_cv,y_pred_cv)\n",
    "\n",
    "metrics.loc['RandomForestRegressor'] = [train_score, test_score]\n",
    "\n",
    "print(model.score(X_train, y_train), model.score(X_cv, y_cv))"
   ]
  },
  {
   "cell_type": "code",
   "execution_count": 71,
   "metadata": {},
   "outputs": [
    {
     "name": "stdout",
     "output_type": "stream",
     "text": [
      "0.6298806138165092 0.6309689713354494\n"
     ]
    }
   ],
   "source": [
    "### XGB\n",
    "\n",
    "model = XGBRegressor()\n",
    "model.fit(X_train,y_train)\n",
    "\n",
    "#Train\n",
    "y_pred_t = model.predict(X_train)\n",
    "train_score = rmsle(y_train,y_pred_t)\n",
    "\n",
    "#Test\n",
    "y_pred_cv = model.predict(X_cv)\n",
    "test_score = rmsle(y_cv,y_pred_cv)\n",
    "\n",
    "metrics.loc['XGB'] = [train_score, test_score]\n",
    "\n",
    "print(model.score(X_train, y_train), model.score(X_cv, y_cv))"
   ]
  },
  {
   "cell_type": "code",
   "execution_count": 72,
   "metadata": {},
   "outputs": [
    {
     "name": "stdout",
     "output_type": "stream",
     "text": [
      "0.5366732051803984 0.5397844852404947\n"
     ]
    }
   ],
   "source": [
    "### LGB\n",
    "\n",
    "model = LGBMRegressor()\n",
    "model.fit(X_train,y_train)\n",
    "\n",
    "#Train\n",
    "y_pred_t = model.predict(X_train)\n",
    "train_score = rmsle(y_train,y_pred_t)\n",
    "\n",
    "#Test\n",
    "y_pred_cv = model.predict(X_cv)\n",
    "test_score = rmsle(y_cv,y_pred_cv)\n",
    "\n",
    "metrics.loc['LGB'] = [train_score, test_score]\n",
    "\n",
    "print(model.score(X_train, y_train), model.score(X_cv, y_cv))"
   ]
  },
  {
   "cell_type": "code",
   "execution_count": 73,
   "metadata": {},
   "outputs": [
    {
     "name": "stdout",
     "output_type": "stream",
     "text": [
      "0.2152092323428254 0.21728763992248423\n"
     ]
    }
   ],
   "source": [
    "### AdaBoost\n",
    "\n",
    "model = AdaBoostRegressor()\n",
    "model.fit(X_train,y_train)\n",
    "\n",
    "#Train\n",
    "y_pred_t = model.predict(X_train)\n",
    "train_score = rmsle(y_train,y_pred_t)\n",
    "\n",
    "#Test\n",
    "y_pred_cv = model.predict(X_cv)\n",
    "test_score = rmsle(y_cv,y_pred_cv)\n",
    "\n",
    "metrics.loc['AdaBoost'] = [train_score, test_score]\n",
    "\n",
    "print(model.score(X_train, y_train), model.score(X_cv, y_cv))"
   ]
  },
  {
   "cell_type": "code",
   "execution_count": 74,
   "metadata": {},
   "outputs": [
    {
     "name": "stdout",
     "output_type": "stream",
     "text": [
      "0.3295606869342568 0.33148324537607476\n"
     ]
    }
   ],
   "source": [
    "### GradientBoostingRegressor\n",
    "\n",
    "model = GradientBoostingRegressor()\n",
    "model.fit(X_train,y_train)\n",
    "\n",
    "#Train\n",
    "y_pred_t = model.predict(X_train)\n",
    "train_score = rmsle(y_train,y_pred_t)\n",
    "\n",
    "#Test\n",
    "y_pred_cv = model.predict(X_cv)\n",
    "test_score = rmsle(y_cv,y_pred_cv)\n",
    "\n",
    "metrics.loc['GBRegressor'] = [train_score, test_score]\n",
    "\n",
    "print(model.score(X_train, y_train), model.score(X_cv, y_cv))"
   ]
  },
  {
   "cell_type": "code",
   "execution_count": 75,
   "metadata": {},
   "outputs": [
    {
     "data": {
      "text/html": [
       "<div>\n",
       "<style scoped>\n",
       "    .dataframe tbody tr th:only-of-type {\n",
       "        vertical-align: middle;\n",
       "    }\n",
       "\n",
       "    .dataframe tbody tr th {\n",
       "        vertical-align: top;\n",
       "    }\n",
       "\n",
       "    .dataframe thead th {\n",
       "        text-align: right;\n",
       "    }\n",
       "</style>\n",
       "<table border=\"1\" class=\"dataframe\">\n",
       "  <thead>\n",
       "    <tr style=\"text-align: right;\">\n",
       "      <th></th>\n",
       "      <th>Train</th>\n",
       "      <th>Test</th>\n",
       "    </tr>\n",
       "  </thead>\n",
       "  <tbody>\n",
       "    <tr>\n",
       "      <th>DT</th>\n",
       "      <td>134.345731</td>\n",
       "      <td>134.124868</td>\n",
       "    </tr>\n",
       "    <tr>\n",
       "      <th>RandomForestRegressor</th>\n",
       "      <td>134.351708</td>\n",
       "      <td>134.131232</td>\n",
       "    </tr>\n",
       "    <tr>\n",
       "      <th>XGB</th>\n",
       "      <td>138.495018</td>\n",
       "      <td>137.438658</td>\n",
       "    </tr>\n",
       "    <tr>\n",
       "      <th>KNN</th>\n",
       "      <td>144.511265</td>\n",
       "      <td>144.368049</td>\n",
       "    </tr>\n",
       "    <tr>\n",
       "      <th>LGB</th>\n",
       "      <td>151.933245</td>\n",
       "      <td>150.615606</td>\n",
       "    </tr>\n",
       "    <tr>\n",
       "      <th>GBRegressor</th>\n",
       "      <td>177.387118</td>\n",
       "      <td>176.309100</td>\n",
       "    </tr>\n",
       "    <tr>\n",
       "      <th>Ridge</th>\n",
       "      <td>191.161665</td>\n",
       "      <td>190.225178</td>\n",
       "    </tr>\n",
       "    <tr>\n",
       "      <th>AdaBoost</th>\n",
       "      <td>191.173099</td>\n",
       "      <td>190.114960</td>\n",
       "    </tr>\n",
       "    <tr>\n",
       "      <th>Lasso</th>\n",
       "      <td>212.057002</td>\n",
       "      <td>211.238977</td>\n",
       "    </tr>\n",
       "  </tbody>\n",
       "</table>\n",
       "</div>"
      ],
      "text/plain": [
       "                            Train        Test\n",
       "DT                     134.345731  134.124868\n",
       "RandomForestRegressor  134.351708  134.131232\n",
       "XGB                    138.495018  137.438658\n",
       "KNN                    144.511265  144.368049\n",
       "LGB                    151.933245  150.615606\n",
       "GBRegressor            177.387118  176.309100\n",
       "Ridge                  191.161665  190.225178\n",
       "AdaBoost               191.173099  190.114960\n",
       "Lasso                  212.057002  211.238977"
      ]
     },
     "execution_count": 75,
     "metadata": {},
     "output_type": "execute_result"
    }
   ],
   "source": [
    "metrics.sort_values('Train')"
   ]
  },
  {
   "cell_type": "markdown",
   "metadata": {},
   "source": [
    "The best cases seem to be with:\n",
    "1. DT\n",
    "2. RF\n",
    "3. XGB\n",
    "\n",
    "We will try to tune the parameters for these."
   ]
  },
  {
   "cell_type": "markdown",
   "metadata": {},
   "source": [
    "## Hyperparameter Tuning"
   ]
  },
  {
   "cell_type": "code",
   "execution_count": 78,
   "metadata": {},
   "outputs": [],
   "source": [
    "hp_metrics=pd.DataFrame(columns=['Train','Test'])"
   ]
  },
  {
   "cell_type": "code",
   "execution_count": 79,
   "metadata": {},
   "outputs": [],
   "source": [
    "from sklearn.model_selection import GridSearchCV, RandomizedSearchCV"
   ]
  },
  {
   "cell_type": "markdown",
   "metadata": {},
   "source": [
    "##### DT Hyperparameter tuning"
   ]
  },
  {
   "cell_type": "code",
   "execution_count": 80,
   "metadata": {},
   "outputs": [
    {
     "name": "stdout",
     "output_type": "stream",
     "text": [
      "Fitting 3 folds for each of 1750 candidates, totalling 5250 fits\n"
     ]
    },
    {
     "data": {
      "text/plain": [
       "GridSearchCV(cv=3, estimator=DecisionTreeRegressor(), n_jobs=-1,\n",
       "             param_grid={'ccp_alpha': [0, 0.001, 0.01, 0.1, 1],\n",
       "                         'criterion': ['mse', 'friedman_mse'],\n",
       "                         'max_depth': [None, 10, 30, 50, 100],\n",
       "                         'min_samples_leaf': [None, 1, 5, 10, 25, 50, 100],\n",
       "                         'min_samples_split': [None, 10, 30, 50, 100]},\n",
       "             return_train_score=True, scoring='neg_mean_squared_log_error',\n",
       "             verbose=3)"
      ]
     },
     "execution_count": 80,
     "metadata": {},
     "output_type": "execute_result"
    }
   ],
   "source": [
    "estimator = DecisionTreeRegressor()\n",
    "params = {'max_depth':[None,10,30,50,100],\n",
    "          'min_samples_split':[None,10,30,50,100],\n",
    "          'ccp_alpha':[0,0.001,0.01,0.1,1],\n",
    "          'min_samples_leaf':[None,1,5,10,25,50,100]\n",
    "         }\n",
    "\n",
    "dt = GridSearchCV(estimator, params, n_jobs=-1, verbose=3, return_train_score=True, scoring='neg_mean_squared_log_error', cv=3)\n",
    "dt.fit(X_train,y_train)"
   ]
  },
  {
   "cell_type": "code",
   "execution_count": 81,
   "metadata": {},
   "outputs": [
    {
     "data": {
      "text/plain": [
       "DecisionTreeRegressor(ccp_alpha=0, min_samples_split=30)"
      ]
     },
     "execution_count": 81,
     "metadata": {},
     "output_type": "execute_result"
    }
   ],
   "source": [
    "dt.best_estimator_"
   ]
  },
  {
   "cell_type": "code",
   "execution_count": 82,
   "metadata": {},
   "outputs": [
    {
     "name": "stdout",
     "output_type": "stream",
     "text": [
      "-0.018048775365038253 -0.01798948020091768\n"
     ]
    }
   ],
   "source": [
    "#Train\n",
    "y_pred_t = dt.predict(X_train)\n",
    "train_score = rmsle(y_train,y_pred_t)\n",
    "\n",
    "#Test\n",
    "y_pred_cv = dt.predict(X_cv)\n",
    "test_score = rmsle(y_cv,y_pred_cv)\n",
    "\n",
    "hp_metrics.loc['dt'] = [train_score, test_score]\n",
    "\n",
    "print(dt.score(X_train, y_train), dt.score(X_cv, y_cv))"
   ]
  },
  {
   "cell_type": "markdown",
   "metadata": {},
   "source": [
    "##### RF Hyperparameter tuning"
   ]
  },
  {
   "cell_type": "code",
   "execution_count": 84,
   "metadata": {},
   "outputs": [
    {
     "name": "stdout",
     "output_type": "stream",
     "text": [
      "Fitting 3 folds for each of 10 candidates, totalling 30 fits\n"
     ]
    },
    {
     "data": {
      "text/plain": [
       "RandomizedSearchCV(cv=3, estimator=RandomForestRegressor(), n_jobs=-1,\n",
       "                   param_distributions={'ccp_alpha': [0, 0.001, 0.01, 0.1, 1],\n",
       "                                        'max_depth': [None, 10, 30, 50, 100],\n",
       "                                        'min_samples_split': [None, 10, 30, 50,\n",
       "                                                              100],\n",
       "                                        'n_estimators': [100, 150, 200]},\n",
       "                   return_train_score=True,\n",
       "                   scoring='neg_mean_squared_log_error', verbose=3)"
      ]
     },
     "execution_count": 84,
     "metadata": {},
     "output_type": "execute_result"
    }
   ],
   "source": [
    "estimator = RandomForestRegressor()\n",
    "params = {'max_depth':[None,10,30,50,100],\n",
    "          'min_samples_split':[None,10,30,50,100],\n",
    "          'ccp_alpha':[0,0.001,0.01,0.1,1],\n",
    "          'n_estimators':[100,150,200]\n",
    "         }\n",
    "\n",
    "rf = RandomizedSearchCV(estimator, params, n_iter=10, n_jobs=-1, verbose=3, return_train_score=True, scoring='neg_mean_squared_log_error', cv=3)\n",
    "rf.fit(X_train,y_train)"
   ]
  },
  {
   "cell_type": "code",
   "execution_count": 85,
   "metadata": {},
   "outputs": [
    {
     "data": {
      "text/plain": [
       "RandomForestRegressor(ccp_alpha=0.001, min_samples_split=10, n_estimators=150)"
      ]
     },
     "execution_count": 85,
     "metadata": {},
     "output_type": "execute_result"
    }
   ],
   "source": [
    "rf.best_estimator_"
   ]
  },
  {
   "cell_type": "code",
   "execution_count": 86,
   "metadata": {},
   "outputs": [
    {
     "name": "stdout",
     "output_type": "stream",
     "text": [
      "-0.02146139296890367 -0.021107504535732777\n"
     ]
    }
   ],
   "source": [
    "#Train\n",
    "y_pred_t = rf.predict(X_train)\n",
    "train_score = rmsle(y_train,y_pred_t)\n",
    "\n",
    "#Test\n",
    "y_pred_cv = rf.predict(X_cv)\n",
    "test_score = rmsle(y_cv,y_pred_cv)\n",
    "\n",
    "hp_metrics.loc['rf'] = [train_score, test_score]\n",
    "\n",
    "print(rf.score(X_train, y_train), rf.score(X_cv, y_cv))"
   ]
  },
  {
   "cell_type": "markdown",
   "metadata": {},
   "source": [
    "##### XGB Hyperparameter tuning"
   ]
  },
  {
   "cell_type": "code",
   "execution_count": 87,
   "metadata": {},
   "outputs": [
    {
     "name": "stdout",
     "output_type": "stream",
     "text": [
      "Fitting 3 folds for each of 10 candidates, totalling 30 fits\n"
     ]
    },
    {
     "data": {
      "text/plain": [
       "RandomizedSearchCV(cv=3,\n",
       "                   estimator=XGBRegressor(base_score=None, booster=None,\n",
       "                                          colsample_bylevel=None,\n",
       "                                          colsample_bynode=None,\n",
       "                                          colsample_bytree=1, gamma=None,\n",
       "                                          gpu_id=None, importance_type='gain',\n",
       "                                          interaction_constraints=None,\n",
       "                                          learning_rate=None,\n",
       "                                          max_delta_step=None, max_depth=None,\n",
       "                                          min_child_weight=None, missing=nan,\n",
       "                                          monotone_constraints=None,\n",
       "                                          n_estimators=100, n_jo...\n",
       "                                          num_parallel_tree=None,\n",
       "                                          random_state=None, reg_alpha=None,\n",
       "                                          reg_lambda=None,\n",
       "                                          scale_pos_weight=None, subsample=0.8,\n",
       "                                          tree_method=None,\n",
       "                                          validate_parameters=None,\n",
       "                                          verbosity=None),\n",
       "                   n_jobs=-1,\n",
       "                   param_distributions={'eta': [0.3, 0.2, 0.1, 0.05, 0.01,\n",
       "                                                0.005],\n",
       "                                        'gamma': [0, 0.01, 0.1, 1],\n",
       "                                        'max_depth': [2, 5, 10, 25],\n",
       "                                        'min_child_weight': [1, 5, 10, 25]},\n",
       "                   scoring='neg_mean_squared_log_error', verbose=3)"
      ]
     },
     "execution_count": 87,
     "metadata": {},
     "output_type": "execute_result"
    }
   ],
   "source": [
    "estimator = XGBRegressor(subsample=0.8, colsample_bytree=1)\n",
    "params = {'eta':[.3,.2,.1,.05,.01,.005], 'max_depth':[2,5,10,25], 'gamma':[0,0.01,0.1,1], 'min_child_weight':[1,5,10,25]}\n",
    "\n",
    "rscv = RandomizedSearchCV(estimator, params, n_iter=10, n_jobs=-1, verbose=3, scoring='neg_mean_squared_log_error', cv=3)\n",
    "rscv.fit(X_train,y_train)"
   ]
  },
  {
   "cell_type": "code",
   "execution_count": 88,
   "metadata": {},
   "outputs": [
    {
     "data": {
      "text/plain": [
       "XGBRegressor(base_score=0.5, booster='gbtree', colsample_bylevel=1,\n",
       "             colsample_bynode=1, colsample_bytree=1, eta=0.2, gamma=0.01,\n",
       "             gpu_id=-1, importance_type='gain', interaction_constraints='',\n",
       "             learning_rate=0.200000003, max_delta_step=0, max_depth=10,\n",
       "             min_child_weight=25, missing=nan, monotone_constraints='()',\n",
       "             n_estimators=100, n_jobs=8, num_parallel_tree=1, random_state=0,\n",
       "             reg_alpha=0, reg_lambda=1, scale_pos_weight=1, subsample=0.8,\n",
       "             tree_method='exact', validate_parameters=1, verbosity=None)"
      ]
     },
     "execution_count": 88,
     "metadata": {},
     "output_type": "execute_result"
    }
   ],
   "source": [
    "rscv.best_estimator_"
   ]
  },
  {
   "cell_type": "code",
   "execution_count": 89,
   "metadata": {},
   "outputs": [
    {
     "name": "stdout",
     "output_type": "stream",
     "text": [
      "0.6536411133070653 0.6514781393677298\n"
     ]
    }
   ],
   "source": [
    "xgb = rscv.best_estimator_\n",
    "\n",
    "xgb.fit(X_train, y_train)\n",
    "#Train\n",
    "y_pred_t = xgb.predict(X_train)\n",
    "train_score = rmsle(y_train,y_pred_t)\n",
    "\n",
    "#Test\n",
    "y_pred_cv = xgb.predict(X_cv)\n",
    "test_score = rmsle(y_cv,y_pred_cv)\n",
    "\n",
    "hp_metrics.loc['XGBRegressor'] = [train_score, test_score]\n",
    "\n",
    "print(xgb.score(X_train, y_train), xgb.score(X_cv, y_cv))"
   ]
  },
  {
   "cell_type": "markdown",
   "metadata": {},
   "source": [
    "-----------------------"
   ]
  },
  {
   "cell_type": "code",
   "execution_count": 90,
   "metadata": {},
   "outputs": [
    {
     "data": {
      "text/html": [
       "<div>\n",
       "<style scoped>\n",
       "    .dataframe tbody tr th:only-of-type {\n",
       "        vertical-align: middle;\n",
       "    }\n",
       "\n",
       "    .dataframe tbody tr th {\n",
       "        vertical-align: top;\n",
       "    }\n",
       "\n",
       "    .dataframe thead th {\n",
       "        text-align: right;\n",
       "    }\n",
       "</style>\n",
       "<table border=\"1\" class=\"dataframe\">\n",
       "  <thead>\n",
       "    <tr style=\"text-align: right;\">\n",
       "      <th></th>\n",
       "      <th>Train</th>\n",
       "      <th>Test</th>\n",
       "    </tr>\n",
       "  </thead>\n",
       "  <tbody>\n",
       "    <tr>\n",
       "      <th>dt</th>\n",
       "      <td>134.345731</td>\n",
       "      <td>134.124868</td>\n",
       "    </tr>\n",
       "    <tr>\n",
       "      <th>rf</th>\n",
       "      <td>146.497075</td>\n",
       "      <td>145.284220</td>\n",
       "    </tr>\n",
       "    <tr>\n",
       "      <th>XGBRegressor</th>\n",
       "      <td>134.575090</td>\n",
       "      <td>134.100655</td>\n",
       "    </tr>\n",
       "  </tbody>\n",
       "</table>\n",
       "</div>"
      ],
      "text/plain": [
       "                   Train        Test\n",
       "dt            134.345731  134.124868\n",
       "rf            146.497075  145.284220\n",
       "XGBRegressor  134.575090  134.100655"
      ]
     },
     "execution_count": 90,
     "metadata": {},
     "output_type": "execute_result"
    }
   ],
   "source": [
    "hp_metrics"
   ]
  },
  {
   "cell_type": "markdown",
   "metadata": {},
   "source": [
    "----------------------------------"
   ]
  },
  {
   "cell_type": "markdown",
   "metadata": {},
   "source": [
    "#### Attempt with `Stacking`"
   ]
  },
  {
   "cell_type": "code",
   "execution_count": 100,
   "metadata": {},
   "outputs": [],
   "source": [
    "from sklearn.ensemble import StackingRegressor"
   ]
  },
  {
   "cell_type": "code",
   "execution_count": 101,
   "metadata": {},
   "outputs": [],
   "source": [
    "stack_metrics=pd.DataFrame(columns=['Train','Test'])"
   ]
  },
  {
   "cell_type": "code",
   "execution_count": 102,
   "metadata": {},
   "outputs": [
    {
     "name": "stdout",
     "output_type": "stream",
     "text": [
      "0.6232201997921294 0.6219385533251726\n"
     ]
    }
   ],
   "source": [
    "### stacking\n",
    "estimators = [('rf',RandomForestRegressor(ccp_alpha=0.001, min_samples_split=10, n_estimators=150)),\n",
    "              ('dt', DecisionTreeRegressor(ccp_alpha=0, min_samples_split=30))]\n",
    "final = DecisionTreeRegressor()\n",
    "\n",
    "model = StackingRegressor(estimators, final)\n",
    "model.fit(X_train,y_train)\n",
    "\n",
    "#Train\n",
    "y_pred_t = model.predict(X_train)\n",
    "train_score = rmsle(y_train,y_pred_t)\n",
    "\n",
    "#Test\n",
    "y_pred_cv = model.predict(X_cv)\n",
    "test_score = rmsle(y_cv,y_pred_cv)\n",
    "\n",
    "stack_metrics.loc['1'] = [train_score, test_score]\n",
    "\n",
    "print(model.score(X_train, y_train), model.score(X_cv, y_cv))"
   ]
  },
  {
   "cell_type": "code",
   "execution_count": 103,
   "metadata": {},
   "outputs": [
    {
     "data": {
      "text/html": [
       "<div>\n",
       "<style scoped>\n",
       "    .dataframe tbody tr th:only-of-type {\n",
       "        vertical-align: middle;\n",
       "    }\n",
       "\n",
       "    .dataframe tbody tr th {\n",
       "        vertical-align: top;\n",
       "    }\n",
       "\n",
       "    .dataframe thead th {\n",
       "        text-align: right;\n",
       "    }\n",
       "</style>\n",
       "<table border=\"1\" class=\"dataframe\">\n",
       "  <thead>\n",
       "    <tr style=\"text-align: right;\">\n",
       "      <th></th>\n",
       "      <th>Train</th>\n",
       "      <th>Test</th>\n",
       "    </tr>\n",
       "  </thead>\n",
       "  <tbody>\n",
       "    <tr>\n",
       "      <th>1</th>\n",
       "      <td>139.45697</td>\n",
       "      <td>138.818524</td>\n",
       "    </tr>\n",
       "  </tbody>\n",
       "</table>\n",
       "</div>"
      ],
      "text/plain": [
       "       Train        Test\n",
       "1  139.45697  138.818524"
      ]
     },
     "execution_count": 103,
     "metadata": {},
     "output_type": "execute_result"
    }
   ],
   "source": [
    "stack_metrics"
   ]
  },
  {
   "cell_type": "code",
   "execution_count": 104,
   "metadata": {},
   "outputs": [
    {
     "data": {
      "text/plain": [
       "array([[1.       , 0.       , 1.1900146, ..., 0.       , 1.       ,\n",
       "        0.       ],\n",
       "       [1.       , 0.       , 1.1900146, ..., 0.       , 1.       ,\n",
       "        0.       ],\n",
       "       [1.       , 0.       , 1.1900146, ..., 0.       , 1.       ,\n",
       "        0.       ],\n",
       "       ...,\n",
       "       [1.       , 0.       , 1.1900146, ..., 1.       , 0.       ,\n",
       "        1.       ],\n",
       "       [1.       , 0.       , 1.1900146, ..., 1.       , 0.       ,\n",
       "        1.       ],\n",
       "       [1.       , 0.       , 1.1900146, ..., 1.       , 0.       ,\n",
       "        1.       ]])"
      ]
     },
     "execution_count": 104,
     "metadata": {},
     "output_type": "execute_result"
    }
   ],
   "source": [
    "X_test"
   ]
  },
  {
   "cell_type": "markdown",
   "metadata": {},
   "source": [
    "## Final Output"
   ]
  },
  {
   "cell_type": "code",
   "execution_count": 105,
   "metadata": {},
   "outputs": [
    {
     "data": {
      "text/html": [
       "<div>\n",
       "<style scoped>\n",
       "    .dataframe tbody tr th:only-of-type {\n",
       "        vertical-align: middle;\n",
       "    }\n",
       "\n",
       "    .dataframe tbody tr th {\n",
       "        vertical-align: top;\n",
       "    }\n",
       "\n",
       "    .dataframe thead th {\n",
       "        text-align: right;\n",
       "    }\n",
       "</style>\n",
       "<table border=\"1\" class=\"dataframe\">\n",
       "  <thead>\n",
       "    <tr style=\"text-align: right;\">\n",
       "      <th></th>\n",
       "      <th>ID</th>\n",
       "      <th>Sales</th>\n",
       "    </tr>\n",
       "  </thead>\n",
       "  <tbody>\n",
       "    <tr>\n",
       "      <th>0</th>\n",
       "      <td>883</td>\n",
       "      <td>91.620289</td>\n",
       "    </tr>\n",
       "    <tr>\n",
       "      <th>1</th>\n",
       "      <td>884</td>\n",
       "      <td>91.620289</td>\n",
       "    </tr>\n",
       "    <tr>\n",
       "      <th>2</th>\n",
       "      <td>885</td>\n",
       "      <td>91.620289</td>\n",
       "    </tr>\n",
       "    <tr>\n",
       "      <th>3</th>\n",
       "      <td>886</td>\n",
       "      <td>91.620289</td>\n",
       "    </tr>\n",
       "    <tr>\n",
       "      <th>4</th>\n",
       "      <td>887</td>\n",
       "      <td>53.590215</td>\n",
       "    </tr>\n",
       "  </tbody>\n",
       "</table>\n",
       "</div>"
      ],
      "text/plain": [
       "    ID      Sales\n",
       "0  883  91.620289\n",
       "1  884  91.620289\n",
       "2  885  91.620289\n",
       "3  886  91.620289\n",
       "4  887  53.590215"
      ]
     },
     "execution_count": 105,
     "metadata": {},
     "output_type": "execute_result"
    }
   ],
   "source": [
    "#Test prediction\n",
    "y_pred_test = model.predict(X_test)\n",
    "\n",
    "final = pd.DataFrame({'ID':test['ID'], 'Sales':y_pred_test**2})\n",
    "final.head()"
   ]
  },
  {
   "cell_type": "code",
   "execution_count": 106,
   "metadata": {},
   "outputs": [],
   "source": [
    "#Output\n",
    "final.to_csv('stacked_final.csv',index=False)"
   ]
  },
  {
   "cell_type": "code",
   "execution_count": null,
   "metadata": {},
   "outputs": [],
   "source": []
  }
 ],
 "metadata": {
  "kernelspec": {
   "display_name": "Python 3",
   "language": "python",
   "name": "python3"
  },
  "language_info": {
   "codemirror_mode": {
    "name": "ipython",
    "version": 3
   },
   "file_extension": ".py",
   "mimetype": "text/x-python",
   "name": "python",
   "nbconvert_exporter": "python",
   "pygments_lexer": "ipython3",
   "version": "3.8.5"
  }
 },
 "nbformat": 4,
 "nbformat_minor": 4
}
